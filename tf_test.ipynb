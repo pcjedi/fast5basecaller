{
 "cells": [
  {
   "cell_type": "code",
   "execution_count": 1,
   "metadata": {},
   "outputs": [],
   "source": [
    "import h5py\n",
    "import tensorflow as tf\n",
    "import numpy as np\n",
    "\n",
    "from tensorflow.contrib.rnn import LSTMCell\n",
    "from tensorflow.nn.rnn_cell import MultiRNNCell"
   ]
  },
  {
   "cell_type": "code",
   "execution_count": 2,
   "metadata": {},
   "outputs": [],
   "source": [
    "batch_size = 200\n",
    "segment_length = 100\n",
    "num_features = 1\n",
    "\n",
    "neurons_per_layer = segment_length\n",
    "layers = 6\n",
    "class_n = 5"
   ]
  },
  {
   "cell_type": "code",
   "execution_count": 3,
   "metadata": {
    "scrolled": true
   },
   "outputs": [
    {
     "name": "stdout",
     "output_type": "stream",
     "text": [
      "WARNING:tensorflow:From /usr/lib/python3.7/site-packages/tensorflow/python/ops/rnn.py:417: calling reverse_sequence (from tensorflow.python.ops.array_ops) with seq_dim is deprecated and will be removed in a future version.\n",
      "Instructions for updating:\n",
      "seq_dim is deprecated, use seq_axis instead\n",
      "WARNING:tensorflow:From /usr/lib/python3.7/site-packages/tensorflow/python/util/deprecation.py:432: calling reverse_sequence (from tensorflow.python.ops.array_ops) with batch_dim is deprecated and will be removed in a future version.\n",
      "Instructions for updating:\n",
      "batch_dim is deprecated, use batch_axis instead\n",
      "Tensor(\"logits:0\", shape=(200, 100, 5), dtype=float32)\n"
     ]
    }
   ],
   "source": [
    "tf.reset_default_graph()\n",
    "\n",
    "#defining Inputs\n",
    "x = tf.placeholder(tf.float32, shape=[batch_size, segment_length, num_features], name = 'x')\n",
    "sequence_length = tf.placeholder(tf.int32, shape=[batch_size], name = 'sequence_length')\n",
    "\n",
    "##########################################\n",
    "## first RNN layers ######################\n",
    "##########################################\n",
    "\n",
    "outputs, output_states = tf.nn.bidirectional_dynamic_rnn(\n",
    "    cell_fw = MultiRNNCell([LSTMCell(neurons_per_layer) for _ in range(layers)]), \n",
    "    cell_bw = MultiRNNCell([LSTMCell(neurons_per_layer) for _ in range(layers)]), \n",
    "    inputs = x, \n",
    "    sequence_length = sequence_length,\n",
    "    dtype = tf.float32\n",
    ")\n",
    "\n",
    "outputs = tf.concat(outputs, 2)\n",
    "outputs = tf.reshape(outputs, [batch_size, segment_length, 2, neurons_per_layer], name = 'outputs')\n",
    "\n",
    "#####################################################\n",
    "## collapse the output of RNN to do further stuff ###\n",
    "#####################################################\n",
    "\n",
    "W_collapse = tf.get_variable('W_collapse', shape = [2, neurons_per_layer])\n",
    "b_collapse = tf.get_variable('b_callapse', shape = [neurons_per_layer])\n",
    "\n",
    "collapsed = tf.multiply(outputs, W_collapse)\n",
    "collapsed = tf.reduce_sum(collapsed, axis=2)\n",
    "collapsed = tf.nn.bias_add(collapsed, b_collapse)\n",
    "collapsed = tf.reshape(collapsed, [batch_size*segment_length,neurons_per_layer], name = 'collapsed')\n",
    "\n",
    "###############################\n",
    "## last NN layer ##############\n",
    "###############################\n",
    "\n",
    "W_last = tf.get_variable('W_last', shape = [neurons_per_layer, class_n])\n",
    "b_last = tf.get_variable('b_last', shape = [class_n])\n",
    "\n",
    "logits = tf.matmul(collapsed, W_last)\n",
    "logits = tf.add(logits, b_last)\n",
    "logits = tf.reshape(logits, [batch_size, segment_length, class_n], name=\"logits\")\n",
    "print(logits)"
   ]
  },
  {
   "cell_type": "code",
   "execution_count": 4,
   "metadata": {
    "scrolled": true
   },
   "outputs": [],
   "source": [
    "indices = tf.placeholder(tf.int64)\n",
    "values = tf.placeholder(tf.int32)\n",
    "dense_shape = tf.placeholder(tf.int64)\n",
    "\n",
    "labels = tf.SparseTensor(indices = indices, \n",
    "                         values = values, \n",
    "                         dense_shape = dense_shape\n",
    "                        )\n",
    "\n",
    "loss = tf.reduce_mean(\n",
    "    tf.nn.ctc_loss(labels = labels, \n",
    "                   inputs = logits, \n",
    "                   sequence_length = sequence_length, \n",
    "                   time_major=False\n",
    "                  )\n",
    ")"
   ]
  },
  {
   "cell_type": "code",
   "execution_count": 5,
   "metadata": {},
   "outputs": [],
   "source": [
    "max_steps = 20000\n",
    "init_rate = 1e-3\n",
    "global_step = tf.get_variable('global_step', trainable=False, shape=(),\n",
    "                              dtype=tf.int32,\n",
    "                              initializer=tf.zeros_initializer())\n",
    "boundaries = [int(max_steps * 0.66), int(max_steps * 0.83)]\n",
    "lr_values = [init_rate * decay for decay in [1, 1e-1, 1e-2]]\n",
    "learning_rate = tf.train.piecewise_constant(global_step, boundaries, lr_values)\n",
    "\n",
    "optimizer = tf.train.AdamOptimizer(learning_rate)\n",
    "\n",
    "step = optimizer.minimize(loss, global_step = global_step)"
   ]
  },
  {
   "cell_type": "code",
   "execution_count": 6,
   "metadata": {},
   "outputs": [
    {
     "name": "stderr",
     "output_type": "stream",
     "text": [
      "checking files: 100%|██████████| 9/9 [00:00<00:00, 2269.37it/s]"
     ]
    },
    {
     "name": "stdout",
     "output_type": "stream",
     "text": [
      "1 files have labels, 1 for training and 0 for testing\n"
     ]
    },
    {
     "name": "stderr",
     "output_type": "stream",
     "text": [
      "\n"
     ]
    }
   ],
   "source": [
    "from fast5_input import fast5batches\n",
    "\n",
    "f5b = fast5batches(batch_size=batch_size, segment_length=segment_length, fast5dir='./', training=True, test_ratio=.2)"
   ]
  },
  {
   "cell_type": "code",
   "execution_count": 7,
   "metadata": {},
   "outputs": [
    {
     "name": "stderr",
     "output_type": "stream",
     "text": [
      "\r",
      "  0%|          | 0/30 [00:00<?, ?it/s]"
     ]
    },
    {
     "name": "stdout",
     "output_type": "stream",
     "text": [
      "./IMB14_011406_LT_20170322_FNFAF13375_MN17027_sequencing_run_C4_watermang_22032017_12981_ch78_read10_strand.fast5\n"
     ]
    },
    {
     "name": "stderr",
     "output_type": "stream",
     "text": [
      " 27%|██▋       | 8/30 [00:45<02:04,  5.67s/it]"
     ]
    },
    {
     "name": "stdout",
     "output_type": "stream",
     "text": [
      "./IMB14_011406_LT_20170322_FNFAF13375_MN17027_sequencing_run_C4_watermang_22032017_12981_ch78_read10_strand.fast5\n"
     ]
    },
    {
     "name": "stderr",
     "output_type": "stream",
     "text": [
      " 57%|█████▋    | 17/30 [01:34<01:12,  5.59s/it]"
     ]
    },
    {
     "name": "stdout",
     "output_type": "stream",
     "text": [
      "./IMB14_011406_LT_20170322_FNFAF13375_MN17027_sequencing_run_C4_watermang_22032017_12981_ch78_read10_strand.fast5\n"
     ]
    },
    {
     "name": "stderr",
     "output_type": "stream",
     "text": [
      " 87%|████████▋ | 26/30 [02:24<00:22,  5.56s/it]"
     ]
    },
    {
     "name": "stdout",
     "output_type": "stream",
     "text": [
      "./IMB14_011406_LT_20170322_FNFAF13375_MN17027_sequencing_run_C4_watermang_22032017_12981_ch78_read10_strand.fast5\n"
     ]
    },
    {
     "name": "stderr",
     "output_type": "stream",
     "text": [
      "100%|██████████| 30/30 [02:47<00:00,  5.57s/it]"
     ]
    },
    {
     "name": "stdout",
     "output_type": "stream",
     "text": [
      "0:02:47.237803\n"
     ]
    },
    {
     "name": "stderr",
     "output_type": "stream",
     "text": [
      "\n"
     ]
    }
   ],
   "source": [
    "import datetime\n",
    "from tqdm import tqdm\n",
    "start = datetime.datetime.now()\n",
    "\n",
    "loss_list = []\n",
    "lr_list = []\n",
    "\n",
    "with tf.Session() as sess:\n",
    "    sess.run(tf.global_variables_initializer())\n",
    "    for _ in tqdm(range(30)):\n",
    "        temp = f5b.next_batch(test=False)\n",
    "        rs, ln, vals, ixs, fi = temp\n",
    "        feed_dict = {x:rs, sequence_length:ln, indices:ixs, values:vals, dense_shape:rs.shape}\n",
    "        #if len([x for x in range(batch_size) if x not in np.unique(ixs[0])])>0:\n",
    "        #    continue\n",
    "        l, _, lr = sess.run([loss, step, learning_rate], feed_dict = feed_dict)\n",
    "        loss_list.append(l)\n",
    "        lr_list.append(lr)\n",
    "        #print(sess.run(loss, feed_dict = feed_dict))\n",
    "\n",
    "end = datetime.datetime.now()\n",
    "print(end-start)"
   ]
  },
  {
   "cell_type": "code",
   "execution_count": 8,
   "metadata": {},
   "outputs": [
    {
     "data": {
      "text/plain": [
       "[<matplotlib.lines.Line2D at 0x7f900ec9b710>]"
      ]
     },
     "execution_count": 8,
     "metadata": {},
     "output_type": "execute_result"
    },
    {
     "data": {
      "image/png": "[encoded data removed]",
      "text/plain": [
       "<Figure size 432x288 with 1 Axes>"
      ]
     },
     "metadata": {},
     "output_type": "display_data"
    }
   ],
   "source": [
    "import matplotlib.pylab as plt\n",
    "%matplotlib inline\n",
    "\n",
    "plt.plot(loss_list)"
   ]
  },
  {
   "cell_type": "code",
   "execution_count": 9,
   "metadata": {},
   "outputs": [
    {
     "data": {
      "text/plain": [
       "[<matplotlib.lines.Line2D at 0x7f900c18bcf8>]"
      ]
     },
     "execution_count": 9,
     "metadata": {},
     "output_type": "execute_result"
    },
    {
     "data": {
      "image/png": "[encoded data removed]",
      "text/plain": [
       "<Figure size 432x288 with 1 Axes>"
      ]
     },
     "metadata": {},
     "output_type": "display_data"
    }
   ],
   "source": [
    "plt.plot(lr_list)"
   ]
  },
  {
   "cell_type": "code",
   "execution_count": 10,
   "metadata": {},
   "outputs": [
    {
     "data": {
      "text/plain": [
       "<tf.Tensor 'PiecewiseConstant/case/cond/Merge:0' shape=() dtype=float32>"
      ]
     },
     "execution_count": 10,
     "metadata": {},
     "output_type": "execute_result"
    }
   ],
   "source": [
    "learning_rate"
   ]
  },
  {
   "cell_type": "code",
   "execution_count": 11,
   "metadata": {},
   "outputs": [
    {
     "data": {
      "text/plain": [
       "(2388, (2388, 2))"
      ]
     },
     "execution_count": 11,
     "metadata": {},
     "output_type": "execute_result"
    }
   ],
   "source": [
    "len(vals), ixs.shape"
   ]
  },
  {
   "cell_type": "code",
   "execution_count": 12,
   "metadata": {},
   "outputs": [
    {
     "data": {
      "text/plain": [
       "array([100, 100, 100, 100, 100, 100, 100, 100, 100, 100, 100, 100, 100,\n",
       "       100, 100, 100, 100, 100, 100, 100, 100, 100, 100, 100, 100, 100,\n",
       "       100, 100, 100, 100, 100, 100, 100, 100, 100, 100, 100, 100, 100,\n",
       "       100, 100, 100, 100, 100, 100, 100, 100, 100, 100, 100, 100, 100,\n",
       "       100, 100, 100, 100, 100, 100, 100, 100, 100, 100, 100, 100, 100,\n",
       "       100, 100, 100, 100, 100, 100, 100, 100, 100, 100, 100, 100, 100,\n",
       "       100, 100, 100, 100, 100, 100, 100, 100, 100, 100, 100, 100, 100,\n",
       "       100, 100, 100, 100, 100, 100, 100, 100, 100, 100, 100, 100, 100,\n",
       "       100, 100, 100, 100, 100, 100, 100, 100, 100, 100, 100, 100, 100,\n",
       "       100, 100, 100, 100, 100, 100, 100, 100, 100, 100, 100, 100, 100,\n",
       "       100, 100, 100, 100, 100, 100, 100, 100, 100, 100, 100, 100, 100,\n",
       "       100, 100, 100, 100, 100, 100, 100, 100, 100, 100, 100, 100, 100,\n",
       "       100, 100, 100, 100, 100, 100, 100, 100, 100, 100, 100, 100, 100,\n",
       "       100, 100, 100, 100, 100, 100, 100, 100, 100, 100, 100, 100, 100,\n",
       "       100, 100, 100, 100, 100, 100, 100, 100, 100, 100, 100, 100, 100,\n",
       "       100, 100, 100, 100, 100])"
      ]
     },
     "execution_count": 12,
     "metadata": {},
     "output_type": "execute_result"
    }
   ],
   "source": [
    "ln"
   ]
  },
  {
   "cell_type": "code",
   "execution_count": 13,
   "metadata": {},
   "outputs": [
    {
     "data": {
      "text/plain": [
       "(200, 100, 1)"
      ]
     },
     "execution_count": 13,
     "metadata": {},
     "output_type": "execute_result"
    }
   ],
   "source": [
    "rs.shape"
   ]
  }
 ],
 "metadata": {
  "kernelspec": {
   "display_name": "Python 3",
   "language": "python",
   "name": "python3"
  },
  "language_info": {
   "codemirror_mode": {
    "name": "ipython",
    "version": 3
   },
   "file_extension": ".py",
   "mimetype": "text/x-python",
   "name": "python",
   "nbconvert_exporter": "python",
   "pygments_lexer": "ipython3",
   "version": "3.7.0"
  }
 },
 "nbformat": 4,
 "nbformat_minor": 2
}
